{
 "cells": [
  {
   "cell_type": "code",
   "execution_count": 24,
   "metadata": {
    "tags": []
   },
   "outputs": [],
   "source": [
    "import copy\n",
    "import csv\n",
    "from enum import Enum\n",
    "import io\n",
    "import json\n",
    "import os\n",
    "import typing as t\n",
    "\n",
    "import cv2\n",
    "from IPython.display import clear_output\n",
    "import matplotlib.pyplot as plt\n",
    "import numpy as np\n",
    "import pandas as pd\n",
    "from PIL import Image\n",
    "from tqdm.auto import tqdm\n",
    "from sklearn.metrics import (\n",
    "    accuracy_score,\n",
    "    roc_auc_score,\n",
    "    roc_curve,\n",
    ")\n",
    "import torch\n",
    "import torch.nn as nn\n",
    "from torch.nn import functional as F\n",
    "import torch.utils.data as td\n",
    "from torch.utils.data import DataLoader, Dataset\n",
    "import torchvision\n",
    "import torchvision.transforms as transforms\n",
    "from torchvision.models import resnet18, ResNet18_Weights"
   ]
  },
  {
   "cell_type": "code",
   "execution_count": 25,
   "metadata": {
    "tags": []
   },
   "outputs": [],
   "source": [
    "from utils import (\n",
    "    show_photos, \n",
    "    create_dataloader,\n",
    "    train_epoch,\n",
    "    test_epoch,\n",
    "    plot_history,\n",
    "    print_model_params_required_grad,\n",
    "    PUBLIC_DATA_FOLDER_PATH,\n",
    "    PUBLIC_DATA_DESCRIPTION_PATH,\n",
    ")"
   ]
  },
  {
   "cell_type": "code",
   "execution_count": 3,
   "metadata": {},
   "outputs": [
    {
     "data": {
      "text/plain": [
       "device(type='cuda', index=0)"
      ]
     },
     "execution_count": 3,
     "metadata": {},
     "output_type": "execute_result"
    }
   ],
   "source": [
    "device = torch.device('cuda:0' if torch.cuda.is_available() else 'cpu')\n",
    "device"
   ]
  },
  {
   "cell_type": "markdown",
   "metadata": {},
   "source": [
    "# Description\n",
    "\n",
    "Yandex GO is one of the top three ride-hailing services in the world. Our app facilitates over 4 billion trips per year across 32 countries. We are committed to the quality of our services, ensuring thorough checks of both drivers and their vehicles before they go online, based on dozens of criteria. Part of the vehicle inspection process is carried out remotely using photos of the vehicle, which allows us to either block or grant the driver access to orders. This tool ensures that cars do not go online if they are damaged or dirty.\n",
    "\n",
    "Computer vision algorithms play a significant role in this remote quality control process. Machine learning models act as a filter that processes vehicle inspection requests, automatically approving a portion of requests that, according to the models, contain no violations, and sending suspicious cases for additional manual review.\n",
    "\n",
    "### How does the photo inspection process work?\n",
    "As part of vehicle photo inspections, drivers periodically receive a task to take photos of their car, so it can be checked for damage, compliance with service standards, branding presence, etc. Before these checks, we also need to ensure that drivers took the photos honestly and sent what we expected. The driver is required to take 4 photos (front, rear, left side, right side). The photos are taken through the Yandex PRO app, which has an interface that guides them to capture the 4 photos in the correct order and from the required angles.\n",
    "\n",
    "In the standard process, the photos are first reviewed by ML pipeline. If ML pipeline doesn't find anything suspicious in the photos, the inspection is automatically approved. If the pipeline flags at least one photo, the inspection is sent to an assessor for a final decision. Thus, the object for decision-making is the inspection itself, i.e., all 4 photos together.\n",
    "\n",
    "In this task, the license plate numbers have been blacked out."
   ]
  },
  {
   "cell_type": "code",
   "execution_count": null,
   "metadata": {},
   "outputs": [],
   "source": [
    "PUBLIC_DATA_FOLDER_PATH = 'sry we can not publish it'\n",
    "pass_id = 'sry we can not publish it'\n",
    "photos = []\n",
    "for side in ['front', 'back', 'left', 'right']:\n",
    "    with open(f'{PUBLIC_DATA_FOLDER_PATH}/{pass_id}_{side}', 'rb') as file:\n",
    "        photos.append(file.read())\n",
    "show_photos(photos)"
   ]
  },
  {
   "cell_type": "markdown",
   "metadata": {},
   "source": [
    "### Data description: \n",
    "- **filename** —  name of the photo file, consisting of `pass_id` and `plan_side`.\n",
    "- **pass_id** — ID of the inspection. Each inspection contains 4 photos.\n",
    "- **plan_side** — the side of the vehicle that should be in the photo. Possible values: front, back, left, right.\n",
    "- **fact_side** — the side of the vehicle as determined by assessors. Possible values: front, back, left, right, unknown.\n",
    "- **fraud_verdict** — the assessor's verdict on what is depicted in the photo. Possible values:\n",
    "   - ALL_GOOD —  the photo clearly shows one side of the vehicle, which is fully visible and in focus.\n",
    "   - LACK_OF_PHOTOS — the photo does not contain a vehicle at all.\n",
    "   - BLURRY_PHOTO — the photo is blurry.\n",
    "   - SCREEN_PHOTO — not a real vehicle photo, but a photo of a screen.\n",
    "   - DARK_PHOTO — the photo is too dark.\n",
    "   - INCOMPLETE_CAPTURE — the vehicle is not fully visible in the photo.\n",
    "- **fraud_probability** — the proportion of assessors who assigned the given fraud_verdict. If no verdict achieved a majority, a random one is chosen.\n",
    "- **damage_verdict** — the assessor's verdict on the vehicle's condition. Possible values:\n",
    "   - NO_DEFECT —  no visible damage.\n",
    "   - DEFECT — the is some damage.\n",
    "   - BAD_PHOTO — can't say anything about the damage, because of photo's quality.\n",
    "- **damage_probability** — the proportion of assessors who assigned the given damage_verdict. If no verdict achieved a majority, a random one is chosen."
   ]
  },
  {
   "cell_type": "code",
   "execution_count": null,
   "metadata": {
    "tags": []
   },
   "outputs": [],
   "source": [
    "description = pd.read_csv(PUBLIC_DATA_DESCRIPTION_PATH, index_col='filename').sort_index()\n",
    "description.head()"
   ]
  },
  {
   "cell_type": "markdown",
   "metadata": {},
   "source": [
    "In addition to fraud that can be identified by looking at an individual photo, there may be cases where each photo individually has a fraud_verdict of 'ALL_GOOD', but the driver took two photos of the same side of the vehicle and failed to capture another side:"
   ]
  },
  {
   "cell_type": "code",
   "execution_count": null,
   "metadata": {},
   "outputs": [],
   "source": [
    "description[description.pass_id == 'sry we can not publish it']"
   ]
  },
  {
   "cell_type": "markdown",
   "metadata": {},
   "source": [
    "# Objective\n",
    "To assess the quality of vehicles and photos using machine learning algorithms:  \n",
    "1. For detecting fraud (incorrect photos, unclear images, or incorrect photo sets).  \n",
    "2. For detecting vehicle damage."
   ]
  },
  {
   "cell_type": "markdown",
   "metadata": {},
   "source": [
    "## Performance Metric and Deliverables\n",
    "There are 2 targets and 4 sides of a vehicle in each exam. But after all, we need to predict whether the inspection should be sent to a human for review to provide feedback to the driver, or if there are no defects and the inspection can be automatically approved. This means that the metric is calculated not for individual photos for each target, but for the inspection as a whole.\n",
    "\n",
    "*Evaluation Metric:* ROC AUC (object — inspection)\n",
    "\n",
    "*Required Deliverables*:\n",
    "- Model Weights: The trained model's weights for reproducibility and further analysis.\n",
    "- Executable Script: A script containing all necessary code to run the model, including data reading, preprocessing steps, model architecture, inference code.\n",
    "   "
   ]
  },
  {
   "cell_type": "markdown",
   "metadata": {},
   "source": [
    "# Example"
   ]
  },
  {
   "cell_type": "markdown",
   "metadata": {},
   "source": [
    "Let's try to train a fraud detection model with a simplified target that does not account for cases where two photos in an inspection may capture the same side of the vehicle. For this, we will use a pretrained ResNet18 model and replace its classifier."
   ]
  },
  {
   "cell_type": "code",
   "execution_count": 7,
   "metadata": {},
   "outputs": [],
   "source": [
    "class CarSide(Enum):\n",
    "    FRONT = 0\n",
    "    BACK = 1\n",
    "    LEFT = 2\n",
    "    RIGHT = 3\n",
    "    UNKNOWN = 5\n",
    "    \n",
    "class FraudResolution(Enum):\n",
    "    ALL_GOOD = 0\n",
    "    LACK_OF_PHOTOS = 1\n",
    "    BLURRY_PHOTO = 2\n",
    "    SCREEN_PHOTO = 3\n",
    "    DARK_PHOTO = 4\n",
    "    INCOMPLETE_CAPTURE = 5\n",
    "    # RUDE_CONTENT = 6\n",
    "    \n",
    "class DamageResolution(Enum):\n",
    "    NO_DEFECT = 0\n",
    "    DEFECT = 1\n",
    "    BAD_PHOTO = 2"
   ]
  },
  {
   "cell_type": "code",
   "execution_count": 8,
   "metadata": {},
   "outputs": [],
   "source": [
    "from transformers import ViTImageProcessor, ViTForImageClassification\n",
    "\n",
    "processor = ViTImageProcessor.from_pretrained('WinKawaks/vit-tiny-patch16-224')"
   ]
  },
  {
   "cell_type": "code",
   "execution_count": 9,
   "metadata": {},
   "outputs": [],
   "source": [
    "def pil_open(image_data: bytes) -> Image:\n",
    "    return Image.open(io.BytesIO(image_data))\n",
    "\n",
    "\n",
    "def preprocess(image_data: t.Optional[bytes]) -> torch.Tensor:\n",
    "    return transforms.Compose([\n",
    "        transforms.Lambda(pil_open),\n",
    "        transforms.RandomHorizontalFlip(),  \n",
    "        transforms.RandomRotation(20),      \n",
    "        transforms.ColorJitter(brightness=0.2, contrast=0.2, saturation=0.2, hue=0.1),\n",
    "        transforms.ToTensor(),\n",
    "        transforms.Lambda(lambda x: processor(images=x, return_tensors=\"pt\", do_rescale=False)['pixel_values'].squeeze(0))\n",
    "    ])(image_data)"
   ]
  },
  {
   "cell_type": "code",
   "execution_count": 10,
   "metadata": {},
   "outputs": [],
   "source": [
    "def make_target(row):\n",
    "    real = int(\n",
    "        row.plan_side != row.fact_side or \n",
    "        row.fraud_verdict != 'ALL_GOOD' or\n",
    "        row.damage_verdict != 'NO_DEFECT'\n",
    "    )\n",
    "    return real\n",
    "\n",
    "description['target'] = description.apply(make_target, axis=1)"
   ]
  },
  {
   "cell_type": "code",
   "execution_count": null,
   "metadata": {},
   "outputs": [],
   "source": [
    "damage_target = description['target']\n",
    "description = description.drop('target', axis=1)\n",
    "description"
   ]
  },
  {
   "cell_type": "code",
   "execution_count": 12,
   "metadata": {},
   "outputs": [
    {
     "data": {
      "text/plain": [
       "target\n",
       "1    114379\n",
       "0     67426\n",
       "Name: count, dtype: int64"
      ]
     },
     "execution_count": 12,
     "metadata": {},
     "output_type": "execute_result"
    }
   ],
   "source": [
    "damage_target.value_counts()"
   ]
  },
  {
   "cell_type": "code",
   "execution_count": 16,
   "metadata": {},
   "outputs": [],
   "source": [
    "BATCH_SIZE = 512\n",
    "TRAIN_FRACTION = 0.9\n",
    "\n",
    "total_size = damage_target.shape[0]\n",
    "train_size = int(total_size * TRAIN_FRACTION)\n",
    "\n",
    "\n",
    "train_loader = create_dataloader(\n",
    "    img_dir_path=PUBLIC_DATA_FOLDER_PATH,\n",
    "    target_map=damage_target[:train_size].to_dict(),\n",
    "    description=description,\n",
    "    batch_size=BATCH_SIZE,\n",
    "    preprocessor=preprocess,\n",
    "    num_load_workers=0,\n",
    ")\n",
    "\n",
    "test_loader = create_dataloader(\n",
    "    img_dir_path=PUBLIC_DATA_FOLDER_PATH,\n",
    "    target_map=damage_target[train_size:total_size].to_dict(),\n",
    "    description=description,\n",
    "    batch_size=BATCH_SIZE,\n",
    "    preprocessor=preprocess,\n",
    "    num_load_workers=0,\n",
    ")"
   ]
  },
  {
   "cell_type": "code",
   "execution_count": 13,
   "metadata": {},
   "outputs": [],
   "source": [
    "def train_model(\n",
    "    model, \n",
    "    device, \n",
    "    train_loader, \n",
    "    test_loader, \n",
    "    epochs, \n",
    "    criterion, \n",
    "    optimizer, \n",
    "    scheduler=None, \n",
    "    save_best_model=True\n",
    "):\n",
    "    best_test_loss = None\n",
    "    best_state_dict = None\n",
    "    train_loss_history = []\n",
    "    train_acc_history = []\n",
    "    test_loss_history = []\n",
    "    test_acc_history = []\n",
    "    \n",
    "    model = model.to(device)\n",
    "    \n",
    "    for epoch in range(epochs):\n",
    "        print(f'Epoch {epoch + 1}')\n",
    "        train_loss, train_acc = train_epoch(\n",
    "            model, \n",
    "            device,\n",
    "            train_loader, \n",
    "            criterion, \n",
    "            optimizer\n",
    "        )\n",
    "        train_loss_history.append(train_loss)\n",
    "        train_acc_history.append(train_acc)\n",
    "        \n",
    "        if scheduler is not None:\n",
    "            scheduler.step()\n",
    "        \n",
    "        test_loss, test_acc = test_epoch(model, device, test_loader, criterion)\n",
    "        test_loss_history.append(test_loss)\n",
    "        test_acc_history.append(test_acc)\n",
    "        \n",
    "        if best_test_loss is None or test_loss < best_test_loss:\n",
    "            best_test_loss = test_loss\n",
    "            best_state_dict = copy.deepcopy(model.state_dict())\n",
    "        \n",
    "        clear_output()\n",
    "        plot_history(\n",
    "            train_loss_history, \n",
    "            test_loss_history, \n",
    "            train_acc_history, \n",
    "            test_acc_history\n",
    "        )\n",
    "        torch.save(model, f'tiny_model{epoch}.pt')\n",
    "    \n",
    "    if save_best_model:\n",
    "        model.load_state_dict(best_state_dict)\n",
    "    \n",
    "    return {\n",
    "        'train_loss': train_loss_history, \n",
    "        'test_loss': test_loss_history,\n",
    "        'train_acc': train_acc_history,\n",
    "        'test_acc': test_acc_history\n",
    "    }"
   ]
  },
  {
   "cell_type": "markdown",
   "metadata": {},
   "source": [
    "### ResNet18 baseline"
   ]
  },
  {
   "cell_type": "code",
   "execution_count": 14,
   "metadata": {},
   "outputs": [],
   "source": [
    "model = ViTForImageClassification.from_pretrained('WinKawaks/vit-tiny-patch16-224')\n",
    "# model = torch.load('vit_all.pt')"
   ]
  },
  {
   "cell_type": "code",
   "execution_count": 20,
   "metadata": {},
   "outputs": [],
   "source": [
    "for param in model.parameters():\n",
    "    param.requires_grad = False\n",
    "\n",
    "model.classifier = torch.nn.Sequential(\n",
    "    torch.nn.Linear(192, 192),\n",
    "    torch.nn.GELU(),\n",
    "    torch.nn.LayerNorm(192, eps=1e-12),\n",
    "    torch.nn.Linear(192, 192),\n",
    "    torch.nn.GELU(),\n",
    "    torch.nn.LayerNorm(192, eps=1e-12),\n",
    "    torch.nn.Linear(192, 1),\n",
    "    torch.nn.Sigmoid(),\n",
    ")"
   ]
  },
  {
   "cell_type": "code",
   "execution_count": 21,
   "metadata": {},
   "outputs": [],
   "source": [
    "optimizer = torch.optim.AdamW(model.parameters(), lr=1e-3)\n",
    "lr_scheduler = torch.optim.lr_scheduler.StepLR(optimizer, step_size=3, gamma=0.1)\n",
    "\n",
    "def BCELoss_class_weighted(weights):\n",
    "    \n",
    "    def loss(pred, target):\n",
    "        pred = torch.clamp(pred, min=1e-7, max=1-1e-7)\n",
    "        bce = -weights[1] * target * torch.log(pred) - (1 - target) * weights[0] * torch.log(1 - pred)\n",
    "        return torch.sum(bce)\n",
    "\n",
    "    return loss\n",
    "\n",
    "criterion = BCELoss_class_weighted(weights=[0.6, 0.4])"
   ]
  },
  {
   "cell_type": "code",
   "execution_count": 22,
   "metadata": {
    "tags": []
   },
   "outputs": [
    {
     "data": {
      "image/png": "[encoded data removed]",
      "text/plain": [
       "<Figure size 1500x900 with 2 Axes>"
      ]
     },
     "metadata": {},
     "output_type": "display_data"
    }
   ],
   "source": [
    "print_model_params_required_grad(model)\n",
    "\n",
    "resnet_simple_fraud_log = train_model(\n",
    "    model=model, \n",
    "    device=device,\n",
    "    train_loader=train_loader, \n",
    "    test_loader=test_loader, \n",
    "    epochs=1, \n",
    "    criterion=criterion, \n",
    "    optimizer=optimizer, \n",
    ")"
   ]
  },
  {
   "cell_type": "code",
   "execution_count": 23,
   "metadata": {},
   "outputs": [],
   "source": [
    "torch.save(model, 'baseline_small.pt')"
   ]
  },
  {
   "cell_type": "code",
   "execution_count": 15,
   "metadata": {},
   "outputs": [],
   "source": [
    "torch.cuda.empty_cache()\n",
    "for param in model.parameters():\n",
    "    param.requires_grad = True"
   ]
  },
  {
   "cell_type": "code",
   "execution_count": 16,
   "metadata": {},
   "outputs": [],
   "source": [
    "BATCH_SIZE = 256\n",
    "TRAIN_FRACTION = 0.9\n",
    "\n",
    "total_size = damage_target.shape[0]\n",
    "train_size = int(total_size * TRAIN_FRACTION)\n",
    "\n",
    "\n",
    "train_loader = create_dataloader(\n",
    "    img_dir_path=PUBLIC_DATA_FOLDER_PATH,\n",
    "    target_map=damage_target[:train_size].to_dict(),\n",
    "    description=description,\n",
    "    batch_size=BATCH_SIZE,\n",
    "    preprocessor=preprocess,\n",
    "    num_load_workers=0,\n",
    ")\n",
    "\n",
    "test_loader = create_dataloader(\n",
    "    img_dir_path=PUBLIC_DATA_FOLDER_PATH,\n",
    "    target_map=damage_target[train_size:total_size].to_dict(),\n",
    "    description=description,\n",
    "    batch_size=BATCH_SIZE,\n",
    "    preprocessor=preprocess,\n",
    "    num_load_workers=0,\n",
    ")"
   ]
  },
  {
   "cell_type": "code",
   "execution_count": 17,
   "metadata": {},
   "outputs": [],
   "source": [
    "optimizer = torch.optim.AdamW(model.parameters(), lr=1e-5, weight_decay=0.05)\n",
    "lr_scheduler = torch.optim.lr_scheduler.StepLR(optimizer, step_size=100, gamma=0)\n",
    "\n",
    "def BCELoss_class_weighted(weights):\n",
    "    \n",
    "    def loss(pred, target):\n",
    "        pred = torch.clamp(pred, min=1e-7, max=1-1e-7)\n",
    "        bce = -weights[1] * target * torch.log(pred) - (1 - target) * weights[0] * torch.log(1 - pred)\n",
    "        return torch.sum(bce)\n",
    "\n",
    "    return loss\n",
    "\n",
    "criterion = BCELoss_class_weighted(weights=[0.6, 0.4])"
   ]
  },
  {
   "cell_type": "code",
   "execution_count": 18,
   "metadata": {},
   "outputs": [
    {
     "data": {
      "image/png": "[encoded data removed]",
      "text/plain": [
       "<Figure size 1500x900 with 2 Axes>"
      ]
     },
     "metadata": {},
     "output_type": "display_data"
    },
    {
     "name": "stdout",
     "output_type": "stream",
     "text": [
      "Epoch 5\n"
     ]
    },
    {
     "data": {
      "application/vnd.jupyter.widget-view+json": {
       "model_id": "1d1005960d0d46dabc43ff89cf2accc1",
       "version_major": 2,
       "version_minor": 0
      },
      "text/plain": [
       "  0%|          | 0/640 [00:00<?, ?it/s]"
      ]
     },
     "metadata": {},
     "output_type": "display_data"
    },
    {
     "ename": "KeyboardInterrupt",
     "evalue": "",
     "output_type": "error",
     "traceback": [
      "\u001b[1;31m---------------------------------------------------------------------------\u001b[0m",
      "\u001b[1;31mKeyboardInterrupt\u001b[0m                         Traceback (most recent call last)",
      "Cell \u001b[1;32mIn[18], line 3\u001b[0m\n\u001b[0;32m      1\u001b[0m print_model_params_required_grad(model)\n\u001b[1;32m----> 3\u001b[0m resnet_simple_fraud_log \u001b[38;5;241m=\u001b[39m \u001b[43mtrain_model\u001b[49m\u001b[43m(\u001b[49m\n\u001b[0;32m      4\u001b[0m \u001b[43m    \u001b[49m\u001b[43mmodel\u001b[49m\u001b[38;5;241;43m=\u001b[39;49m\u001b[43mmodel\u001b[49m\u001b[43m,\u001b[49m\u001b[43m \u001b[49m\n\u001b[0;32m      5\u001b[0m \u001b[43m    \u001b[49m\u001b[43mdevice\u001b[49m\u001b[38;5;241;43m=\u001b[39;49m\u001b[43mdevice\u001b[49m\u001b[43m,\u001b[49m\n\u001b[0;32m      6\u001b[0m \u001b[43m    \u001b[49m\u001b[43mtrain_loader\u001b[49m\u001b[38;5;241;43m=\u001b[39;49m\u001b[43mtrain_loader\u001b[49m\u001b[43m,\u001b[49m\u001b[43m \u001b[49m\n\u001b[0;32m      7\u001b[0m \u001b[43m    \u001b[49m\u001b[43mtest_loader\u001b[49m\u001b[38;5;241;43m=\u001b[39;49m\u001b[43mtest_loader\u001b[49m\u001b[43m,\u001b[49m\u001b[43m \u001b[49m\n\u001b[0;32m      8\u001b[0m \u001b[43m    \u001b[49m\u001b[43mepochs\u001b[49m\u001b[38;5;241;43m=\u001b[39;49m\u001b[38;5;241;43m5\u001b[39;49m\u001b[43m,\u001b[49m\u001b[43m \u001b[49m\n\u001b[0;32m      9\u001b[0m \u001b[43m    \u001b[49m\u001b[43mcriterion\u001b[49m\u001b[38;5;241;43m=\u001b[39;49m\u001b[43mcriterion\u001b[49m\u001b[43m,\u001b[49m\u001b[43m \u001b[49m\n\u001b[0;32m     10\u001b[0m \u001b[43m    \u001b[49m\u001b[43moptimizer\u001b[49m\u001b[38;5;241;43m=\u001b[39;49m\u001b[43moptimizer\u001b[49m\u001b[43m,\u001b[49m\u001b[43m \u001b[49m\n\u001b[0;32m     11\u001b[0m \u001b[43m)\u001b[49m\n",
      "Cell \u001b[1;32mIn[13], line 23\u001b[0m, in \u001b[0;36mtrain_model\u001b[1;34m(model, device, train_loader, test_loader, epochs, criterion, optimizer, scheduler, save_best_model)\u001b[0m\n\u001b[0;32m     21\u001b[0m \u001b[38;5;28;01mfor\u001b[39;00m epoch \u001b[38;5;129;01min\u001b[39;00m \u001b[38;5;28mrange\u001b[39m(epochs):\n\u001b[0;32m     22\u001b[0m     \u001b[38;5;28mprint\u001b[39m(\u001b[38;5;124mf\u001b[39m\u001b[38;5;124m'\u001b[39m\u001b[38;5;124mEpoch \u001b[39m\u001b[38;5;132;01m{\u001b[39;00mepoch\u001b[38;5;250m \u001b[39m\u001b[38;5;241m+\u001b[39m\u001b[38;5;250m \u001b[39m\u001b[38;5;241m1\u001b[39m\u001b[38;5;132;01m}\u001b[39;00m\u001b[38;5;124m'\u001b[39m)\n\u001b[1;32m---> 23\u001b[0m     train_loss, train_acc \u001b[38;5;241m=\u001b[39m \u001b[43mtrain_epoch\u001b[49m\u001b[43m(\u001b[49m\n\u001b[0;32m     24\u001b[0m \u001b[43m        \u001b[49m\u001b[43mmodel\u001b[49m\u001b[43m,\u001b[49m\u001b[43m \u001b[49m\n\u001b[0;32m     25\u001b[0m \u001b[43m        \u001b[49m\u001b[43mdevice\u001b[49m\u001b[43m,\u001b[49m\n\u001b[0;32m     26\u001b[0m \u001b[43m        \u001b[49m\u001b[43mtrain_loader\u001b[49m\u001b[43m,\u001b[49m\u001b[43m \u001b[49m\n\u001b[0;32m     27\u001b[0m \u001b[43m        \u001b[49m\u001b[43mcriterion\u001b[49m\u001b[43m,\u001b[49m\u001b[43m \u001b[49m\n\u001b[0;32m     28\u001b[0m \u001b[43m        \u001b[49m\u001b[43moptimizer\u001b[49m\n\u001b[0;32m     29\u001b[0m \u001b[43m    \u001b[49m\u001b[43m)\u001b[49m\n\u001b[0;32m     30\u001b[0m     train_loss_history\u001b[38;5;241m.\u001b[39mappend(train_loss)\n\u001b[0;32m     31\u001b[0m     train_acc_history\u001b[38;5;241m.\u001b[39mappend(train_acc)\n",
      "File \u001b[1;32m~\\ds\\aidao\\utils.py:57\u001b[0m, in \u001b[0;36mtrain_epoch\u001b[1;34m(model, device, train_loader, criterion, optimizer)\u001b[0m\n\u001b[0;32m     55\u001b[0m loss \u001b[38;5;241m=\u001b[39m criterion(outputs, labels\u001b[38;5;241m.\u001b[39mfloat())\n\u001b[0;32m     56\u001b[0m loss\u001b[38;5;241m.\u001b[39mbackward()\n\u001b[1;32m---> 57\u001b[0m train_loss \u001b[38;5;241m+\u001b[39m\u001b[38;5;241m=\u001b[39m \u001b[43mloss\u001b[49m\u001b[38;5;241;43m.\u001b[39;49m\u001b[43mdetach\u001b[49m\u001b[43m(\u001b[49m\u001b[43m)\u001b[49m\u001b[38;5;241;43m.\u001b[39;49m\u001b[43mcpu\u001b[49m\u001b[43m(\u001b[49m\u001b[43m)\u001b[49m\u001b[38;5;241m.\u001b[39mitem()\n\u001b[0;32m     58\u001b[0m images_cnt \u001b[38;5;241m+\u001b[39m\u001b[38;5;241m=\u001b[39m images\u001b[38;5;241m.\u001b[39mshape[\u001b[38;5;241m0\u001b[39m]\n\u001b[0;32m     59\u001b[0m train_acc \u001b[38;5;241m+\u001b[39m\u001b[38;5;241m=\u001b[39m (labels \u001b[38;5;241m==\u001b[39m (outputs \u001b[38;5;241m>\u001b[39m \u001b[38;5;241m0.5\u001b[39m))\u001b[38;5;241m.\u001b[39msum()\u001b[38;5;241m.\u001b[39mcpu()\u001b[38;5;241m.\u001b[39mitem()\n",
      "\u001b[1;31mKeyboardInterrupt\u001b[0m: "
     ]
    }
   ],
   "source": [
    "print_model_params_required_grad(model)\n",
    "\n",
    "resnet_simple_fraud_log = train_model(\n",
    "    model=model, \n",
    "    device=device,\n",
    "    train_loader=train_loader, \n",
    "    test_loader=test_loader, \n",
    "    epochs=5, \n",
    "    criterion=criterion, \n",
    "    optimizer=optimizer, \n",
    ")"
   ]
  },
  {
   "cell_type": "code",
   "execution_count": 19,
   "metadata": {},
   "outputs": [],
   "source": [
    "torch.cuda.empty_cache()"
   ]
  },
  {
   "cell_type": "code",
   "execution_count": 30,
   "metadata": {},
   "outputs": [],
   "source": [
    "torch.save(model, 'vit_all_tiny.pt')"
   ]
  },
  {
   "cell_type": "markdown",
   "metadata": {},
   "source": [
    "### Metric calculation"
   ]
  },
  {
   "cell_type": "markdown",
   "metadata": {},
   "source": [
    "**NB**: There are only **filename**, **pass_id**, **plan_side** in private data description"
   ]
  },
  {
   "cell_type": "code",
   "execution_count": 33,
   "metadata": {},
   "outputs": [],
   "source": [
    "from sklearn.metrics import roc_auc_score\n",
    "\n",
    "from utils import get_predictions"
   ]
  },
  {
   "cell_type": "code",
   "execution_count": 23,
   "metadata": {},
   "outputs": [],
   "source": [
    "model = torch.load('11_all.pt')"
   ]
  },
  {
   "cell_type": "code",
   "execution_count": 1,
   "metadata": {},
   "outputs": [],
   "source": [
    "test_predictions = get_predictions(model, device, test_loader)"
   ]
  },
  {
   "cell_type": "code",
   "execution_count": 24,
   "metadata": {},
   "outputs": [
    {
     "data": {
      "text/html": [
       "<div>\n",
       "<style scoped>\n",
       "    .dataframe tbody tr th:only-of-type {\n",
       "        vertical-align: middle;\n",
       "    }\n",
       "\n",
       "    .dataframe tbody tr th {\n",
       "        vertical-align: top;\n",
       "    }\n",
       "\n",
       "    .dataframe thead th {\n",
       "        text-align: right;\n",
       "    }\n",
       "</style>\n",
       "<table border=\"1\" class=\"dataframe\">\n",
       "  <thead>\n",
       "    <tr style=\"text-align: right;\">\n",
       "      <th></th>\n",
       "      <th>pass_id</th>\n",
       "      <th>prediction</th>\n",
       "      <th>plan_side</th>\n",
       "    </tr>\n",
       "  </thead>\n",
       "  <tbody>\n",
       "    <tr>\n",
       "      <th>0</th>\n",
       "      <td>a1240a46c165f6ca</td>\n",
       "      <td>0.998744</td>\n",
       "      <td>back</td>\n",
       "    </tr>\n",
       "    <tr>\n",
       "      <th>1</th>\n",
       "      <td>a1240a46c165f6ca</td>\n",
       "      <td>0.998773</td>\n",
       "      <td>front</td>\n",
       "    </tr>\n",
       "    <tr>\n",
       "      <th>2</th>\n",
       "      <td>a1240a46c165f6ca</td>\n",
       "      <td>0.998477</td>\n",
       "      <td>left</td>\n",
       "    </tr>\n",
       "    <tr>\n",
       "      <th>3</th>\n",
       "      <td>a1240a46c165f6ca</td>\n",
       "      <td>0.998824</td>\n",
       "      <td>right</td>\n",
       "    </tr>\n",
       "    <tr>\n",
       "      <th>4</th>\n",
       "      <td>a1252381f49a5101</td>\n",
       "      <td>0.569946</td>\n",
       "      <td>back</td>\n",
       "    </tr>\n",
       "  </tbody>\n",
       "</table>\n",
       "</div>"
      ],
      "text/plain": [
       "            pass_id  prediction plan_side\n",
       "0  a1240a46c165f6ca    0.998744      back\n",
       "1  a1240a46c165f6ca    0.998773     front\n",
       "2  a1240a46c165f6ca    0.998477      left\n",
       "3  a1240a46c165f6ca    0.998824     right\n",
       "4  a1252381f49a5101    0.569946      back"
      ]
     },
     "execution_count": 24,
     "metadata": {},
     "output_type": "execute_result"
    }
   ],
   "source": [
    "test_predictions.head()"
   ]
  },
  {
   "cell_type": "code",
   "execution_count": 25,
   "metadata": {},
   "outputs": [
    {
     "data": {
      "text/html": [
       "<div>\n",
       "<style scoped>\n",
       "    .dataframe tbody tr th:only-of-type {\n",
       "        vertical-align: middle;\n",
       "    }\n",
       "\n",
       "    .dataframe tbody tr th {\n",
       "        vertical-align: top;\n",
       "    }\n",
       "\n",
       "    .dataframe thead th {\n",
       "        text-align: right;\n",
       "    }\n",
       "</style>\n",
       "<table border=\"1\" class=\"dataframe\">\n",
       "  <thead>\n",
       "    <tr style=\"text-align: right;\">\n",
       "      <th></th>\n",
       "      <th>real</th>\n",
       "      <th>prediction</th>\n",
       "    </tr>\n",
       "    <tr>\n",
       "      <th>pass_id</th>\n",
       "      <th></th>\n",
       "      <th></th>\n",
       "    </tr>\n",
       "  </thead>\n",
       "  <tbody>\n",
       "    <tr>\n",
       "      <th>a1240a46c165f6ca</th>\n",
       "      <td>1</td>\n",
       "      <td>0.998824</td>\n",
       "    </tr>\n",
       "    <tr>\n",
       "      <th>a1252381f49a5101</th>\n",
       "      <td>1</td>\n",
       "      <td>0.968658</td>\n",
       "    </tr>\n",
       "    <tr>\n",
       "      <th>a1256f6b65a2193b</th>\n",
       "      <td>1</td>\n",
       "      <td>0.992031</td>\n",
       "    </tr>\n",
       "    <tr>\n",
       "      <th>a12659d9dceef2aa</th>\n",
       "      <td>1</td>\n",
       "      <td>0.996830</td>\n",
       "    </tr>\n",
       "    <tr>\n",
       "      <th>a1289c09d5a573cc</th>\n",
       "      <td>1</td>\n",
       "      <td>0.993407</td>\n",
       "    </tr>\n",
       "  </tbody>\n",
       "</table>\n",
       "</div>"
      ],
      "text/plain": [
       "                  real  prediction\n",
       "pass_id                           \n",
       "a1240a46c165f6ca     1    0.998824\n",
       "a1252381f49a5101     1    0.968658\n",
       "a1256f6b65a2193b     1    0.992031\n",
       "a12659d9dceef2aa     1    0.996830\n",
       "a1289c09d5a573cc     1    0.993407"
      ]
     },
     "execution_count": 25,
     "metadata": {},
     "output_type": "execute_result"
    }
   ],
   "source": [
    "def make_complex_target(row):\n",
    "    real = int(\n",
    "        row.plan_side != row.fact_side or \n",
    "        row.fraud_verdict != 'ALL_GOOD' or\n",
    "        row.damage_verdict != 'NO_DEFECT'\n",
    "    )\n",
    "    return pd.Series(\n",
    "        data=[row.pass_id, real, row.prediction],\n",
    "        index=['pass_id', 'real', 'prediction'],\n",
    "    )\n",
    "\n",
    "# All predictions for each vehicle are aggregated into a single value, \n",
    "# and the metric is calculated based on the inspections.\n",
    "test_verdicts = test_predictions.merge(\n",
    "    description, \n",
    "    on=['pass_id', 'plan_side']\n",
    ").apply(make_complex_target, axis=1).groupby('pass_id').max()\n",
    "\n",
    "test_verdicts.head()"
   ]
  },
  {
   "cell_type": "code",
   "execution_count": 26,
   "metadata": {},
   "outputs": [
    {
     "name": "stdout",
     "output_type": "stream",
     "text": [
      "simple fraud target roc_auc_score: 0.930903098868964\n"
     ]
    }
   ],
   "source": [
    "score = roc_auc_score(test_verdicts.real, test_verdicts.prediction)\n",
    "print(f'simple fraud target roc_auc_score: {score}')"
   ]
  },
  {
   "cell_type": "markdown",
   "metadata": {},
   "source": [
    "### Make a submission file"
   ]
  },
  {
   "cell_type": "code",
   "execution_count": 26,
   "metadata": {},
   "outputs": [],
   "source": [
    "solution_script = '''\n",
    "\n",
    "# -*- coding: utf-8 -*-\n",
    "import typing as t\n",
    "import io\n",
    "\n",
    "import pandas as pd\n",
    "from PIL import Image\n",
    "import torch\n",
    "import torchvision.transforms as transforms\n",
    "from transformers import ViTImageProcessor\n",
    "\n",
    "# Создаем словарь с параметрами для ViTImageProcessor\n",
    "processor_config = {\n",
    "    \"do_normalize\": True,\n",
    "    \"do_rescale\": True,\n",
    "    \"do_resize\": True,\n",
    "    \"image_mean\": [0.5, 0.5, 0.5],\n",
    "    \"image_std\": [0.5, 0.5, 0.5],\n",
    "    \"resample\": 2,\n",
    "    \"rescale_factor\": 0.00392156862745098,\n",
    "    \"size\": {\"height\": 224, \"width\": 224}\n",
    "}\n",
    "\n",
    "# Инициализируем ViTImageProcessor с указанными параметрами\n",
    "processor = ViTImageProcessor(**processor_config)\n",
    "\n",
    "from utils import (\n",
    "    get_predictions, \n",
    "    create_dataloader,\n",
    "    PRIVATE_DATA_FOLDER_PATH, \n",
    "    PRIVATE_DATA_DESCRIPTION_PATH,\n",
    ")\n",
    "\n",
    "BATCH_SIZE = 64\n",
    "\n",
    "def pil_open(image_data: bytes) -> Image:\n",
    "    return Image.open(io.BytesIO(image_data))\n",
    "\n",
    "def preprocess(image_data: t.Optional[bytes]) -> torch.Tensor:\n",
    "    return transforms.Compose([\n",
    "        transforms.Lambda(pil_open),\n",
    "        transforms.ToTensor(),\n",
    "        transforms.Lambda(lambda x: processor(images=x, return_tensors=\"pt\", do_rescale=False)['pixel_values'].squeeze(0))\n",
    "    ])(image_data)\n",
    "\n",
    "device = torch.device('cpu')\n",
    "model = torch.load('tiny_model2.pt', map_location=device)\n",
    "\n",
    "description = pd.read_csv(PRIVATE_DATA_DESCRIPTION_PATH, index_col='filename').sort_index()\n",
    "# there is no real target in private data description\n",
    "dummy_target = {key: 0 for key in description.index}\n",
    "\n",
    "val_loader = create_dataloader(\n",
    "    img_dir_path=PRIVATE_DATA_FOLDER_PATH,\n",
    "    target_map=dummy_target,\n",
    "    description=description,\n",
    "    batch_size=BATCH_SIZE,\n",
    "    preprocessor=preprocess,\n",
    "    num_load_workers=0,\n",
    ")\n",
    "\n",
    "solution = get_predictions(model, device, val_loader)\n",
    "solution = solution[['pass_id', 'prediction']].groupby('pass_id').max()\n",
    "solution.to_csv('./predictions.csv')\n",
    "'''"
   ]
  },
  {
   "cell_type": "code",
   "execution_count": 27,
   "metadata": {},
   "outputs": [],
   "source": [
    "# build the .zip to submit\n",
    "import zipfile\n",
    "import datetime\n",
    "\n",
    "def make_zip_submission(model_path, solution_script):\n",
    "\n",
    "    with open('run.py', 'w', encoding='utf-8') as f_run:\n",
    "        f_run.write(solution_script)\n",
    "\n",
    "    with open('run.sh', 'w', encoding='utf-8') as f_run_sh:\n",
    "        f_run_sh.write('python run.py')\n",
    "\n",
    "    with open('prepare.py', 'w', encoding='utf-8') as f_run:\n",
    "        f_run.write('print(\"do nothing\")')\n",
    "\n",
    "    with open('prepare.sh', 'w', encoding='utf-8') as f_run_sh:\n",
    "        f_run_sh.write('python prepare.py')\n",
    "\n",
    "    with open('Makefile', 'w', encoding='utf-8') as f_makefile:\n",
    "        f_makefile.write(\n",
    "'''prepare:\n",
    "\\tbash prepare.sh\n",
    "run:\n",
    "\\tbash run.sh\n",
    "''')\n",
    "\n",
    "    submission_zip = zipfile.ZipFile(\n",
    "        f\"submission-{datetime.datetime.now()}.zip\".replace(':', '-').replace(' ', '-'),\n",
    "        \"w\"\n",
    "    )\n",
    "    submission_zip.write('./Makefile', compress_type=zipfile.ZIP_DEFLATED)\n",
    "    submission_zip.write('run.py', compress_type=zipfile.ZIP_DEFLATED)\n",
    "    submission_zip.write('run.sh', compress_type=zipfile.ZIP_DEFLATED)\n",
    "    submission_zip.write('prepare.py', compress_type=zipfile.ZIP_DEFLATED)\n",
    "    submission_zip.write('prepare.sh', compress_type=zipfile.ZIP_DEFLATED)\n",
    "    submission_zip.write(model_path, compress_type=zipfile.ZIP_DEFLATED)\n",
    "    submission_zip.write('utils.py', compress_type=zipfile.ZIP_DEFLATED)\n",
    "\n",
    "    submission_zip.close()"
   ]
  },
  {
   "cell_type": "code",
   "execution_count": 28,
   "metadata": {},
   "outputs": [],
   "source": [
    "make_zip_submission(model_path='tiny_model2.pt', solution_script=solution_script)"
   ]
  }
 ],
 "metadata": {
  "kernelspec": {
   "display_name": "Python 3 (ipykernel)",
   "language": "python",
   "name": "python3"
  },
  "language_info": {
   "codemirror_mode": {
    "name": "ipython",
    "version": 3
   },
   "file_extension": ".py",
   "mimetype": "text/x-python",
   "name": "python",
   "nbconvert_exporter": "python",
   "pygments_lexer": "ipython3",
   "version": "3.12.7"
  }
 },
 "nbformat": 4,
 "nbformat_minor": 4
}
